{
 "cells": [
  {
   "cell_type": "markdown",
   "metadata": {},
   "source": [
    "## Lab 7: Recommendations \n",
    "\n",
    "In this lab, we will take what we did with movies, and look at Amazon reviews.  This dataset comes from https://jmcauley.ucsd.edu/data/amazon/, and is a subset of a large dataset, just showing reviews for musical instruments.\n",
    "\n",
    "Open the dataset (after downloading it from the Learning Hub), and answer some questions!\n",
    "\n",
    "\n",
    "*I've put in some code, (from the movies file), but you can change whatever you'd like.  This code won't actually run as is, it needs you to finish it.*\n"
   ]
  },
  {
   "cell_type": "code",
   "metadata": {
    "ExecuteTime": {
     "end_time": "2025-04-14T22:46:29.427703Z",
     "start_time": "2025-04-14T22:46:29.415945Z"
    }
   },
   "source": [
    "##load some packages\n",
    "\n",
    "import random\n",
    "from traceback import print_tb\n",
    "\n",
    "import pandas\n",
    "import matplotlib.pyplot as plt\n",
    "import numpy as np\n",
    "\n",
    "## this will optimize our math\n",
    "from scipy.sparse import csr_matrix as sparse_matrix\n",
    "\n",
    "from sklearn.neighbors import NearestNeighbors\n",
    "\n",
    "\n",
    "import os\n",
    "\n",
    "## You can add more here, if you need it!\n"
   ],
   "outputs": [],
   "execution_count": 199
  },
  {
   "cell_type": "code",
   "metadata": {
    "ExecuteTime": {
     "end_time": "2025-04-14T22:46:29.994311Z",
     "start_time": "2025-04-14T22:46:29.511877Z"
    }
   },
   "source": [
    "## read in the data set\n",
    "amazon = pandas.read_csv(\"data/ratings_Musical_Instruments.csv\",names=(\"user\",\"item\",\"rating\",\"timestamp\"))\n",
    "amazon.head()\n",
    "## we  don't need to read in everything\n"
   ],
   "outputs": [
    {
     "data": {
      "text/plain": [
       "             user        item  rating   timestamp\n",
       "0  A1YS9MDZP93857  0006428320     3.0  1394496000\n",
       "1  A3TS466QBAWB9D  0014072149     5.0  1370476800\n",
       "2  A3BUDYITWUSIS7  0041291905     5.0  1381708800\n",
       "3  A19K10Z0D2NTZK  0041913574     5.0  1285200000\n",
       "4  A14X336IB4JD89  0201891859     1.0  1350432000"
      ],
      "text/html": [
       "<div>\n",
       "<style scoped>\n",
       "    .dataframe tbody tr th:only-of-type {\n",
       "        vertical-align: middle;\n",
       "    }\n",
       "\n",
       "    .dataframe tbody tr th {\n",
       "        vertical-align: top;\n",
       "    }\n",
       "\n",
       "    .dataframe thead th {\n",
       "        text-align: right;\n",
       "    }\n",
       "</style>\n",
       "<table border=\"1\" class=\"dataframe\">\n",
       "  <thead>\n",
       "    <tr style=\"text-align: right;\">\n",
       "      <th></th>\n",
       "      <th>user</th>\n",
       "      <th>item</th>\n",
       "      <th>rating</th>\n",
       "      <th>timestamp</th>\n",
       "    </tr>\n",
       "  </thead>\n",
       "  <tbody>\n",
       "    <tr>\n",
       "      <th>0</th>\n",
       "      <td>A1YS9MDZP93857</td>\n",
       "      <td>0006428320</td>\n",
       "      <td>3.0</td>\n",
       "      <td>1394496000</td>\n",
       "    </tr>\n",
       "    <tr>\n",
       "      <th>1</th>\n",
       "      <td>A3TS466QBAWB9D</td>\n",
       "      <td>0014072149</td>\n",
       "      <td>5.0</td>\n",
       "      <td>1370476800</td>\n",
       "    </tr>\n",
       "    <tr>\n",
       "      <th>2</th>\n",
       "      <td>A3BUDYITWUSIS7</td>\n",
       "      <td>0041291905</td>\n",
       "      <td>5.0</td>\n",
       "      <td>1381708800</td>\n",
       "    </tr>\n",
       "    <tr>\n",
       "      <th>3</th>\n",
       "      <td>A19K10Z0D2NTZK</td>\n",
       "      <td>0041913574</td>\n",
       "      <td>5.0</td>\n",
       "      <td>1285200000</td>\n",
       "    </tr>\n",
       "    <tr>\n",
       "      <th>4</th>\n",
       "      <td>A14X336IB4JD89</td>\n",
       "      <td>0201891859</td>\n",
       "      <td>1.0</td>\n",
       "      <td>1350432000</td>\n",
       "    </tr>\n",
       "  </tbody>\n",
       "</table>\n",
       "</div>"
      ]
     },
     "execution_count": 200,
     "metadata": {},
     "output_type": "execute_result"
    }
   ],
   "execution_count": 200
  },
  {
   "cell_type": "code",
   "metadata": {
    "ExecuteTime": {
     "end_time": "2025-04-14T22:46:30.923644Z",
     "start_time": "2025-04-14T22:46:30.121158Z"
    }
   },
   "source": [
    "## How big is dataset\n",
    "rows, columns = amazon.shape\n",
    "print(f\"{rows} rows and {columns} columns\")\n",
    "\n",
    "## How many unique users are there\n",
    "print(f\"Unique users: {amazon[\"user\"].nunique()}\")\n",
    "\n",
    "## How many unique items are there\n",
    "print(f\"Unique items: {amazon[\"item\"].nunique()}\")\n",
    "\n",
    "## User with most ratings rates how many items\n",
    "max_ratings = amazon[\"user\"].value_counts().max()\n",
    "print(f\"Max ratings by a user: {max_ratings}\")\n",
    "\n",
    "## Item with most rating\n",
    "most_ratings_items = amazon[\"item\"].value_counts()\n",
    "most_rated_item = most_ratings_items.index[0]\n",
    "num_most_rated = most_ratings_items.iloc[0]\n",
    "print(f\"Most rated item: {most_rated_item}\")\n",
    "print(f\"Number of ratings for most rated item: {num_most_rated}\")\n",
    "\n",
    "## Highest and lowest\n",
    "avg_ratings_per_item = amazon.groupby(\"item\")[\"rating\"].mean()\n",
    "highest_rated_item = avg_ratings_per_item.idxmax()\n",
    "highest_avg_rating = avg_ratings_per_item.max()\n",
    "print(f\"Highest rated item: {highest_rated_item}\")\n",
    "print(f\"Highest average rating: {highest_avg_rating}\")\n",
    "\n",
    "lowest_rated_item = avg_ratings_per_item.idxmin()\n",
    "lowest_avg_rating = avg_ratings_per_item.min()\n",
    "print(f\"Lowest rated item: {lowest_rated_item}\")\n",
    "print(f\"Lowest average rating: {lowest_avg_rating}\")\n",
    "\n",
    "## How large would the matrix be\n",
    "matrix_rows = amazon[\"user\"].nunique()\n",
    "matrix_columns = amazon[\"item\"].nunique()\n",
    "total_entries = matrix_rows * matrix_columns\n",
    "print(f\"The matrix would have {matrix_rows} rows and {matrix_columns} columns, with {total_entries} entries\")\n",
    "\n",
    "## Non-zero entries\n",
    "non_zero_entries = len(amazon)\n",
    "non_zero_percentage = (non_zero_entries / total_entries) * 100\n",
    "print(f\"The percentage of non-zero entries is {non_zero_percentage}%\")"
   ],
   "outputs": [
    {
     "name": "stdout",
     "output_type": "stream",
     "text": [
      "500176 rows and 4 columns\n",
      "Unique users: 339231\n",
      "Unique items: 83046\n",
      "Max ratings by a user: 483\n",
      "Most rated item: B000ULAP4U\n",
      "Number of ratings for most rated item: 3523\n",
      "Highest rated item: 0014072149\n",
      "Highest average rating: 5.0\n",
      "Lowest rated item: 0201891859\n",
      "Lowest average rating: 1.0\n",
      "The matrix would have 339231 rows and 83046 columns, with 28171777626 entries\n",
      "The percentage of non-zero entries is 0.0017754506181334572%\n"
     ]
    }
   ],
   "execution_count": 201
  },
  {
   "cell_type": "markdown",
   "metadata": {},
   "source": [
    "### Part 1: Descriptive Questions:\n",
    "\n",
    "1. How big is the dataset, in rows and columns? **500176 rows and 4 columns**\n",
    "* How many unique users are there? **339231 unique users**\n",
    "* How many unique items are there? **83046 unique items**\n",
    "* The user who rated the most instruments has rated how many items? **483 items**\n",
    "* The item with the MOST ratings is what? How many ratings does it have?  Hint: Check out the Amazon website, by going to \"www.amazon.com/dp/item_code\", where you put the item into item_code. **B000ULAP4U (Audio Technica ATH-M50 Pro Headphones) with 3523 ratings**\n",
    "* The item with the highest mean average rating is what?  What is the rating? **0014072149 (Bach, J.S. - Double Concerto in d minor BWV 1043 for Two Violins and Piano) with a 5.0 rating**\n",
    "* What is the item with the lowest mean average?  What is the rating? **0201891859 (Chopin: Nocturnes) with a 1.0 rating**\n",
    "* If we built a matrix with all of the users and items, how large would it be? (dimensions, and how many total entries): **The matrix would have 339231 rows and 83046 columns, with 28171777626 entries**\n",
    "\n",
    "* Looking at the size of the dataset, what is the percentage of non-zero entries in the matrix?: **The percentage of non-zero entries is 0.0017754506181334572%**"
   ]
  },
  {
   "metadata": {
    "ExecuteTime": {
     "end_time": "2025-04-14T22:46:30.986709Z",
     "start_time": "2025-04-14T22:46:30.970768Z"
    }
   },
   "cell_type": "code",
   "source": [
    "## Here we are making the same sparse matrix that we made in class\n",
    "## Look it over, but don't worry overly\n",
    "\n",
    "def create_X(ratings,n,d,user_key=\"user\",item_key=\"item\"):\n",
    "    \"\"\"\n",
    "    This code takes a dataset and makes it a Sparse matrix, with some baby functions attached\n",
    "    \"\"\"\n",
    "    user_mapper = dict(zip(np.unique(ratings[user_key]), list(range(d))))\n",
    "    item_mapper = dict(zip(np.unique(ratings[item_key]), list(range(n))))\n",
    "\n",
    "    user_inverse_mapper = dict(zip(list(range(d)), np.unique(ratings[user_key])))\n",
    "    item_inverse_mapper = dict(zip(list(range(n)), np.unique(ratings[item_key])))\n",
    "\n",
    "    user_ind = [user_mapper[i] for i in ratings[user_key]]\n",
    "    item_ind = [item_mapper[i] for i in ratings[item_key]]\n",
    "\n",
    "    X = sparse_matrix((ratings[\"rating\"], (item_ind, user_ind)), shape=(n,d))\n",
    "\n",
    "    return X, user_mapper, item_mapper, user_inverse_mapper, item_inverse_mapper, user_ind, item_ind\n",
    "\n"
   ],
   "outputs": [],
   "execution_count": 202
  },
  {
   "metadata": {
    "ExecuteTime": {
     "end_time": "2025-04-14T22:46:33.845402Z",
     "start_time": "2025-04-14T22:46:31.025157Z"
    }
   },
   "cell_type": "code",
   "source": [
    "## define X in a new window\n",
    "## For this to work, you need to define n and d properly above!\n",
    "## The error you see is BECAUSE n and d are incorrect\n",
    "n = amazon[\"item\"].nunique() # the number of unique items (not 10!)\n",
    "d = amazon[\"user\"].nunique() # the number of unique users (more than 6!)\n",
    "X, user_mapper, item_mapper, user_inverse_mapper, item_inverse_mapper, user_ind, item_ind = create_X(amazon, n=n, d=d)"
   ],
   "outputs": [],
   "execution_count": 203
  },
  {
   "cell_type": "markdown",
   "metadata": {},
   "source": [
    "## Part 2: Try some Machine Learning\n",
    "\n",
    "Thinking of the code from our movie exploration in class, build a BASIC recommender for similar items.  You can do ANY of the following, but you need to choose at least 1:\n",
    "* Use KNN with at least two different iterations to find 5 items that are close to a spcific item.  In class, my algorithm always returned the original movie in the list - can you modify the code so this doesn't happen?\n",
    "* Use *any type of clustering* to cluster items OR users into groups that are similar.\n",
    "* Can you decompose the matrix via PCA?  How can this help us recommend?\n",
    "* Do some outside research, and make something!\n"
   ]
  },
  {
   "cell_type": "code",
   "metadata": {
    "ExecuteTime": {
     "end_time": "2025-04-14T22:46:33.963179Z",
     "start_time": "2025-04-14T22:46:33.920387Z"
    }
   },
   "source": [
    "## ML goes here\n",
    "## Applying KNN\n",
    "knn_model = NearestNeighbors(metric='cosine', algorithm='brute')\n",
    "knn_model.fit(X)\n",
    "\n",
    "def find_similar_items(item_name, model, item_mapper, item_inverse_mapper, X, k=10):\n",
    "    try:\n",
    "        item_index = item_mapper[item_name]\n",
    "    except KeyError:\n",
    "        return f\"Item '{item_name}' not found.\"\n",
    "\n",
    "    distances, indices = model.kneighbors(X[item_index].reshape(1, -1), n_neighbors=k + 1)# +1 to exclude self\n",
    "    similar_items = [item_inverse_mapper[int(i)] for i in indices.flatten()[1:]]  # Exclude the first one (itself)\n",
    "    return similar_items\n",
    "\n",
    "# 3. Create a recommendation function and test it\n",
    "test_item = amazon['item'].iloc[0]\n",
    "similar_items = find_similar_items(test_item, knn_model, item_mapper, item_inverse_mapper, X, k=5)\n",
    "print(f\"Similar items to '{test_item}': {similar_items}\")"
   ],
   "outputs": [
    {
     "name": "stdout",
     "output_type": "stream",
     "text": [
      "Similar items to '0006428320': ['B00021SUHC', 'B004I0CDM6', 'B0002TNGYG', 'B002Q0WT6U', 'B009CIIWQA']\n"
     ]
    }
   ],
   "execution_count": 204
  },
  {
   "cell_type": "markdown",
   "metadata": {},
   "source": [
    "Using your work above, do the following:\n",
    "\n",
    "1. Create *some sort* of recomendation system, and \n",
    "2. EXPLAIN what you have done and why\n",
    "3. Answer the following questions:\n",
    "    * What are the three top products you would recommend to a new user with no rating or purchasing history (the \"cold start\" problem).\n",
    "    * What rating do you think a new user would give to item \"B009CIIWQA\" (a rechargeable Music Stand LED lamp, at https://www.amazon.com/dp/B009CIIWQA\n",
    "    * What are the top three products you would recommend to user \"A27L1LDJZVRLJD\"?\n",
    "    * What rating do you think user \"A27L1LDJZVRLJD\" would give to the LED music lamp, item \"B009CIIWQA\"?"
   ]
  },
  {
   "metadata": {},
   "cell_type": "markdown",
   "source": "### 1. Create some sort of recommendation system"
  },
  {
   "metadata": {
    "ExecuteTime": {
     "end_time": "2025-04-14T22:46:34.032746Z",
     "start_time": "2025-04-14T22:46:34.021371Z"
    }
   },
   "cell_type": "code",
   "source": [
    "## Recommend New Users\n",
    "def recommend_for_new_user(data, top_n=3):\n",
    "    top_items = (\n",
    "        data.groupby('item')\n",
    "        .agg(avg_rating=('rating', 'mean'), rating_count=('rating', 'count'))\n",
    "        .sort_values(['rating_count', 'avg_rating'], ascending=False)\n",
    "        .head(top_n)\n",
    "    )\n",
    "    return top_items.index.tolist()"
   ],
   "outputs": [],
   "execution_count": 205
  },
  {
   "metadata": {
    "ExecuteTime": {
     "end_time": "2025-04-14T22:46:34.090720Z",
     "start_time": "2025-04-14T22:46:34.081024Z"
    }
   },
   "cell_type": "code",
   "source": [
    "## Average rating for new user for an item\n",
    "def avg_item_rating(item_id):\n",
    "    item_ratings = amazon[amazon[\"item\"] == item_id][\"rating\"]\n",
    "    if len(item_ratings) == 0:\n",
    "        return \"Item not found.\"\n",
    "    return round(item_ratings.mean(), 2)"
   ],
   "outputs": [],
   "execution_count": 206
  },
  {
   "metadata": {
    "ExecuteTime": {
     "end_time": "2025-04-14T22:46:34.166993Z",
     "start_time": "2025-04-14T22:46:34.148808Z"
    }
   },
   "cell_type": "code",
   "source": [
    "## Recommend for user\n",
    "def recommend_for_user(user_id, X, user_mapper, item_inverse_mapper, item_mapper, model, k=5):\n",
    "    if user_id not in user_mapper:\n",
    "        return \"User not found.\"\n",
    "\n",
    "    user_idx = user_mapper[user_id]\n",
    "    user_ratings = X[:, user_idx].toarray().flatten()\n",
    "    rated_items_idx = np.where(user_ratings > 0)[0]\n",
    "    scores = {}\n",
    "\n",
    "    for item_idx in rated_items_idx:\n",
    "        distances, indices = model.kneighbors(X[item_idx], n_neighbors=k + 1)\n",
    "        for i in indices.flatten()[1:]:\n",
    "            if i not in rated_items_idx:\n",
    "                scores[i] = scores.get(i, 0) + 1\n",
    "\n",
    "    top_items_idx = sorted(scores.items(), key=lambda x: x[1], reverse=True)[:3]\n",
    "    return [item_inverse_mapper[i] for i, _ in top_items_idx]"
   ],
   "outputs": [],
   "execution_count": 207
  },
  {
   "metadata": {
    "ExecuteTime": {
     "end_time": "2025-04-14T22:46:34.298192Z",
     "start_time": "2025-04-14T22:46:34.284448Z"
    }
   },
   "cell_type": "code",
   "source": [
    "## Predict rating for a user and utem\n",
    "def predict_rating(user_id, item_id, X, user_mapper, item_mapper, item_inverse_mapper, model, k=5):\n",
    "    try:\n",
    "        user_idx = user_mapper[user_id]\n",
    "        item_idx = item_mapper[item_id]\n",
    "    except KeyError:\n",
    "        return \"User or item not found.\"\n",
    "\n",
    "    distances, indices = model.kneighbors(X[item_idx], n_neighbors=k + 1)\n",
    "    indices = indices.flatten()[1:]\n",
    "\n",
    "    user_ratings = X[:, user_idx].toarray().flatten()\n",
    "    neighbor_ratings = [user_ratings[i] for i in indices if user_ratings[i] > 0]\n",
    "\n",
    "    if not neighbor_ratings:\n",
    "        return \"Not enough info to predict rating.\"\n",
    "    return round(np.mean(neighbor_ratings), 2)"
   ],
   "outputs": [],
   "execution_count": 208
  },
  {
   "metadata": {
    "ExecuteTime": {
     "end_time": "2025-04-14T22:46:34.528560Z",
     "start_time": "2025-04-14T22:46:34.303375Z"
    }
   },
   "cell_type": "code",
   "source": [
    "# Top 3 products for a new user\n",
    "print(\"Top 3 recommendations for a new user:\")\n",
    "print(recommend_for_new_user(amazon))\n",
    "\n",
    "# New user rating for item \"B009CIIWQA\"\n",
    "print(\"\\nEstimated rating for new user for item B009CIIWQA:\")\n",
    "print(avg_item_rating(\"B009CIIWQA\"))\n",
    "\n",
    "# Top 3 recommendations for user \"A27L1LDJZVRLJD\"\n",
    "print(\"\\nTop 3 recommendations for user A27L1LDJZVRLJD:\")\n",
    "print(recommend_for_user(\"A27L1LDJZVRLJD\", X, user_mapper, item_inverse_mapper, item_mapper, knn_model))\n",
    "\n",
    "# Predicted rating for item \"B009CIIWQA\" by user \"A27L1LDJZVRLJD\"\n",
    "print(\"\\nPredicted rating for LED lamp by A27L1LDJZVRLJD:\")\n",
    "print(predict_rating(\"A27L1LDJZVRLJD\", \"B009CIIWQA\", X, user_mapper, item_mapper, item_inverse_mapper, knn_model))"
   ],
   "outputs": [
    {
     "name": "stdout",
     "output_type": "stream",
     "text": [
      "Top 3 recommendations for a new user:\n",
      "['B000ULAP4U', 'B003VWJ2K8', 'B003VWKPHC']\n",
      "\n",
      "Estimated rating for new user for item B009CIIWQA:\n",
      "4.01\n",
      "\n",
      "Top 3 recommendations for user A27L1LDJZVRLJD:\n",
      "['B00HTXIP4E', 'B00BUME2XS', 'B00I9ZITRY']\n",
      "\n",
      "Predicted rating for LED lamp by A27L1LDJZVRLJD:\n",
      "Not enough info to predict rating.\n"
     ]
    }
   ],
   "execution_count": 209
  },
  {
   "metadata": {},
   "cell_type": "markdown",
   "source": [
    "### 2. Explanation\n",
    "1. Using the provided function to create a sparse matrix, I use the numbers of unique users and items to as d and n create a sparse matrix. This helps with similarity comparisons.\n",
    "2. I used KNN model for this simple recommendation system, and train on X (returned from the sparse matrix function).\n",
    "3. To handle cold start, we recommend the most popular items (by number of ratings), or items with the highest ratings.\n",
    "4. To predict a user's rating, i find items that the user rated, find similar items, and average the user's ratings on these similar items."
   ]
  },
  {
   "metadata": {},
   "cell_type": "markdown",
   "source": [
    "### 3. Answer the following questions\n",
    "- What are the three top products you would recommend to a new user with no rating or purchasing history (the \"cold start\" problem).\n",
    " The top three products that would be recommended to a new user are **Audio Technica ATH-M50 Pro Headphones (B000ULAP4U)**, **Unknown Item (B003VWJ2K8)**, and **Snark ST-2 All Instrument Clip-On Chromatic Tuner (B003VWKPHC)**.\n",
    "\n",
    "- What rating do you think a new user would give to item \"B009CIIWQA\" (a rechargeable Music Stand LED lamp, at https://www.amazon.com/dp/B009CIIWQA)\n",
    "A new user would give a rating of **4.01 or 4.0**\n",
    "- What are the top three products you would recommend to user \"A27L1LDJZVRLJD\"?\n",
    "The three products recommended to user \"A27L1LDJZVRLJD\" are **Fashionable Fabric Tenor Trombone Gig Bag Backpack Case Purplish Red (B00HTXIP4E)**, **Dunlop Tortex Standard, 0.73mm, Yellow Guitar Pick, 72 Pack (B00BUME2XS)**, and **Unknown Item (B00I9ZITRY)**\n",
    "- What rating do you think user \"A27L1LDJZVRLJD\" would give to the LED music lamp, item \"B009CIIWQA\"?\n",
    "According to my code, there is not enough information to predict"
   ]
  }
 ],
 "metadata": {
  "kernelspec": {
   "display_name": "Python 3 (ipykernel)",
   "language": "python",
   "name": "python3"
  },
  "language_info": {
   "codemirror_mode": {
    "name": "ipython",
    "version": 3
   },
   "file_extension": ".py",
   "mimetype": "text/x-python",
   "name": "python",
   "nbconvert_exporter": "python",
   "pygments_lexer": "ipython3",
   "version": "3.12.4"
  }
 },
 "nbformat": 4,
 "nbformat_minor": 4
}
