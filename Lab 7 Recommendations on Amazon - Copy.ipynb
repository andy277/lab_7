{
 "cells": [
  {
   "cell_type": "markdown",
   "metadata": {},
   "source": [
    "## Lab 7: Recommendations \n",
    "\n",
    "In this lab, we will take what we did with movies, and look at Amazon reviews.  This dataset comes from https://jmcauley.ucsd.edu/data/amazon/, and is a subset of a large dataset, just showing reviews for musical instruments.\n",
    "\n",
    "Open the dataset (after downloading it from the Learning Hub), and answer some questions!\n",
    "\n",
    "\n",
    "*I've put in some code, (from the movies file), but you can change whatever you'd like.  This code won't actually run as is, it needs you to finish it.*\n"
   ]
  },
  {
   "cell_type": "code",
   "metadata": {
    "ExecuteTime": {
     "end_time": "2025-04-15T05:52:17.282668Z",
     "start_time": "2025-04-15T05:52:17.280289Z"
    }
   },
   "source": [
    "##load some packages\n",
    "\n",
    "import random\n",
    "from traceback import print_tb\n",
    "\n",
    "import pandas\n",
    "import matplotlib.pyplot as plt\n",
    "import numpy as np\n",
    "\n",
    "## this will optimize our math\n",
    "from scipy.sparse import csr_matrix as sparse_matrix\n",
    "\n",
    "from sklearn.neighbors import NearestNeighbors\n",
    "\n",
    "\n",
    "import os\n",
    "\n",
    "## You can add more here, if you need it!\n"
   ],
   "outputs": [],
   "execution_count": 264
  },
  {
   "cell_type": "code",
   "metadata": {
    "ExecuteTime": {
     "end_time": "2025-04-15T05:52:17.483434Z",
     "start_time": "2025-04-15T05:52:17.291188Z"
    }
   },
   "source": [
    "## read in the data set\n",
    "amazon = pandas.read_csv(\"data/ratings_Musical_Instruments.csv\",names=(\"user\",\"item\",\"rating\",\"timestamp\"))\n",
    "amazon.head()\n",
    "## we  don't need to read in everything\n"
   ],
   "outputs": [
    {
     "data": {
      "text/plain": [
       "             user        item  rating   timestamp\n",
       "0  A1YS9MDZP93857  0006428320     3.0  1394496000\n",
       "1  A3TS466QBAWB9D  0014072149     5.0  1370476800\n",
       "2  A3BUDYITWUSIS7  0041291905     5.0  1381708800\n",
       "3  A19K10Z0D2NTZK  0041913574     5.0  1285200000\n",
       "4  A14X336IB4JD89  0201891859     1.0  1350432000"
      ],
      "text/html": [
       "<div>\n",
       "<style scoped>\n",
       "    .dataframe tbody tr th:only-of-type {\n",
       "        vertical-align: middle;\n",
       "    }\n",
       "\n",
       "    .dataframe tbody tr th {\n",
       "        vertical-align: top;\n",
       "    }\n",
       "\n",
       "    .dataframe thead th {\n",
       "        text-align: right;\n",
       "    }\n",
       "</style>\n",
       "<table border=\"1\" class=\"dataframe\">\n",
       "  <thead>\n",
       "    <tr style=\"text-align: right;\">\n",
       "      <th></th>\n",
       "      <th>user</th>\n",
       "      <th>item</th>\n",
       "      <th>rating</th>\n",
       "      <th>timestamp</th>\n",
       "    </tr>\n",
       "  </thead>\n",
       "  <tbody>\n",
       "    <tr>\n",
       "      <th>0</th>\n",
       "      <td>A1YS9MDZP93857</td>\n",
       "      <td>0006428320</td>\n",
       "      <td>3.0</td>\n",
       "      <td>1394496000</td>\n",
       "    </tr>\n",
       "    <tr>\n",
       "      <th>1</th>\n",
       "      <td>A3TS466QBAWB9D</td>\n",
       "      <td>0014072149</td>\n",
       "      <td>5.0</td>\n",
       "      <td>1370476800</td>\n",
       "    </tr>\n",
       "    <tr>\n",
       "      <th>2</th>\n",
       "      <td>A3BUDYITWUSIS7</td>\n",
       "      <td>0041291905</td>\n",
       "      <td>5.0</td>\n",
       "      <td>1381708800</td>\n",
       "    </tr>\n",
       "    <tr>\n",
       "      <th>3</th>\n",
       "      <td>A19K10Z0D2NTZK</td>\n",
       "      <td>0041913574</td>\n",
       "      <td>5.0</td>\n",
       "      <td>1285200000</td>\n",
       "    </tr>\n",
       "    <tr>\n",
       "      <th>4</th>\n",
       "      <td>A14X336IB4JD89</td>\n",
       "      <td>0201891859</td>\n",
       "      <td>1.0</td>\n",
       "      <td>1350432000</td>\n",
       "    </tr>\n",
       "  </tbody>\n",
       "</table>\n",
       "</div>"
      ]
     },
     "execution_count": 265,
     "metadata": {},
     "output_type": "execute_result"
    }
   ],
   "execution_count": 265
  },
  {
   "cell_type": "code",
   "metadata": {
    "ExecuteTime": {
     "end_time": "2025-04-15T05:52:17.858666Z",
     "start_time": "2025-04-15T05:52:17.538408Z"
    }
   },
   "source": [
    "## How big is dataset\n",
    "rows, columns = amazon.shape\n",
    "print(f\"{rows} rows and {columns} columns\")\n",
    "\n",
    "## How many unique users are there\n",
    "print(f\"Unique users: {amazon[\"user\"].nunique()}\")\n",
    "\n",
    "## How many unique items are there\n",
    "print(f\"Unique items: {amazon[\"item\"].nunique()}\")\n",
    "\n",
    "## User with most ratings rates how many items\n",
    "max_ratings = amazon[\"user\"].value_counts().max()\n",
    "print(f\"Max ratings by a user: {max_ratings}\")\n",
    "\n",
    "## Item with most rating\n",
    "most_ratings_items = amazon[\"item\"].value_counts()\n",
    "most_rated_item = most_ratings_items.index[0]\n",
    "num_most_rated = most_ratings_items.iloc[0]\n",
    "print(f\"Most rated item: {most_rated_item}\")\n",
    "print(f\"Number of ratings for most rated item: {num_most_rated}\")\n",
    "\n",
    "## Highest and lowest\n",
    "avg_ratings_per_item = amazon.groupby(\"item\")[\"rating\"].mean()\n",
    "highest_rated_item = avg_ratings_per_item.idxmax()\n",
    "highest_avg_rating = avg_ratings_per_item.max()\n",
    "print(f\"Highest rated item: {highest_rated_item}\")\n",
    "print(f\"Highest average rating: {highest_avg_rating}\")\n",
    "\n",
    "lowest_rated_item = avg_ratings_per_item.idxmin()\n",
    "lowest_avg_rating = avg_ratings_per_item.min()\n",
    "print(f\"Lowest rated item: {lowest_rated_item}\")\n",
    "print(f\"Lowest average rating: {lowest_avg_rating}\")\n",
    "\n",
    "## How large would the matrix be\n",
    "matrix_rows = amazon[\"user\"].nunique()\n",
    "matrix_columns = amazon[\"item\"].nunique()\n",
    "total_entries = matrix_rows * matrix_columns\n",
    "print(f\"The matrix would have {matrix_rows} rows and {matrix_columns} columns, with {total_entries} entries\")\n",
    "\n",
    "## Non-zero entries\n",
    "non_zero_entries = len(amazon)\n",
    "non_zero_percentage = (non_zero_entries / total_entries) * 100\n",
    "print(f\"The percentage of non-zero entries is {non_zero_percentage}%\")"
   ],
   "outputs": [
    {
     "name": "stdout",
     "output_type": "stream",
     "text": [
      "500176 rows and 4 columns\n",
      "Unique users: 339231\n",
      "Unique items: 83046\n",
      "Max ratings by a user: 483\n",
      "Most rated item: B000ULAP4U\n",
      "Number of ratings for most rated item: 3523\n",
      "Highest rated item: 0014072149\n",
      "Highest average rating: 5.0\n",
      "Lowest rated item: 0201891859\n",
      "Lowest average rating: 1.0\n",
      "The matrix would have 339231 rows and 83046 columns, with 28171777626 entries\n",
      "The percentage of non-zero entries is 0.0017754506181334572%\n"
     ]
    }
   ],
   "execution_count": 266
  },
  {
   "cell_type": "markdown",
   "metadata": {},
   "source": [
    "### Part 1: Descriptive Questions:\n",
    "\n",
    "1. How big is the dataset, in rows and columns? **500176 rows and 4 columns**\n",
    "* How many unique users are there? **339231 unique users**\n",
    "* How many unique items are there? **83046 unique items**\n",
    "* The user who rated the most instruments has rated how many items? **483 items**\n",
    "* The item with the MOST ratings is what? How many ratings does it have?  Hint: Check out the Amazon website, by going to \"www.amazon.com/dp/item_code\", where you put the item into item_code. **B000ULAP4U (Audio Technica ATH-M50 Pro Headphones) with 3523 ratings**\n",
    "* The item with the highest mean average rating is what?  What is the rating? **0014072149 (Bach, J.S. - Double Concerto in d minor BWV 1043 for Two Violins and Piano) with a 5.0 rating**\n",
    "* What is the item with the lowest mean average?  What is the rating? **0201891859 (Chopin: Nocturnes) with a 1.0 rating**\n",
    "* If we built a matrix with all of the users and items, how large would it be? (dimensions, and how many total entries): **The matrix would have 339231 rows and 83046 columns, with 28171777626 entries**\n",
    "\n",
    "* Looking at the size of the dataset, what is the percentage of non-zero entries in the matrix?: **The percentage of non-zero entries is 0.0017754506181334572%**"
   ]
  },
  {
   "metadata": {
    "ExecuteTime": {
     "end_time": "2025-04-15T05:52:17.876900Z",
     "start_time": "2025-04-15T05:52:17.873439Z"
    }
   },
   "cell_type": "code",
   "source": [
    "## Here we are making the same sparse matrix that we made in class\n",
    "## Look it over, but don't worry overly\n",
    "\n",
    "def create_X(ratings,n,d,user_key=\"user\",item_key=\"item\"):\n",
    "    \"\"\"\n",
    "    This code takes a dataset and makes it a Sparse matrix, with some baby functions attached\n",
    "    \"\"\"\n",
    "    user_mapper = dict(zip(np.unique(ratings[user_key]), list(range(d))))\n",
    "    item_mapper = dict(zip(np.unique(ratings[item_key]), list(range(n))))\n",
    "\n",
    "    user_inverse_mapper = dict(zip(list(range(d)), np.unique(ratings[user_key])))\n",
    "    item_inverse_mapper = dict(zip(list(range(n)), np.unique(ratings[item_key])))\n",
    "\n",
    "    user_ind = [user_mapper[i] for i in ratings[user_key]]\n",
    "    item_ind = [item_mapper[i] for i in ratings[item_key]]\n",
    "\n",
    "    X = sparse_matrix((ratings[\"rating\"], (item_ind, user_ind)), shape=(n,d))\n",
    "\n",
    "    return X, user_mapper, item_mapper, user_inverse_mapper, item_inverse_mapper, user_ind, item_ind\n",
    "\n"
   ],
   "outputs": [],
   "execution_count": 267
  },
  {
   "metadata": {
    "ExecuteTime": {
     "end_time": "2025-04-15T05:52:18.935040Z",
     "start_time": "2025-04-15T05:52:17.887415Z"
    }
   },
   "cell_type": "code",
   "source": [
    "## define X in a new window\n",
    "## For this to work, you need to define n and d properly above!\n",
    "## The error you see is BECAUSE n and d are incorrect\n",
    "n = amazon[\"item\"].nunique() # the number of unique items (not 10!)\n",
    "d = amazon[\"user\"].nunique() # the number of unique users (more than 6!)\n",
    "X, user_mapper, item_mapper, user_inverse_mapper, item_inverse_mapper, user_ind, item_ind = create_X(amazon, n=n, d=d)"
   ],
   "outputs": [],
   "execution_count": 268
  },
  {
   "cell_type": "markdown",
   "metadata": {},
   "source": [
    "## Part 2: Try some Machine Learning\n",
    "\n",
    "Thinking of the code from our movie exploration in class, build a BASIC recommender for similar items.  You can do ANY of the following, but you need to choose at least 1:\n",
    "* Use KNN with at least two different iterations to find 5 items that are close to a spcific item.  In class, my algorithm always returned the original movie in the list - can you modify the code so this doesn't happen?\n",
    "* Use *any type of clustering* to cluster items OR users into groups that are similar.\n",
    "* Can you decompose the matrix via PCA?  How can this help us recommend?\n",
    "* Do some outside research, and make something!\n"
   ]
  },
  {
   "metadata": {
    "ExecuteTime": {
     "end_time": "2025-04-15T05:52:18.975722Z",
     "start_time": "2025-04-15T05:52:18.962087Z"
    }
   },
   "cell_type": "code",
   "source": [
    "## ML goes here\n",
    "## Applying KNN\n",
    "knn_model = NearestNeighbors(metric='cosine', algorithm='brute')\n",
    "knn_model.fit(X)\n",
    "\n",
    "def find_similar_items(item_name, model, item_mapper, item_inverse_mapper, X, k=10):\n",
    "    try:\n",
    "        item_index = item_mapper[item_name]\n",
    "    except KeyError:\n",
    "        return f\"Item '{item_name}' not found.\"\n",
    "\n",
    "    # Request more neighbors to ensure we have enough after filtering\n",
    "    distances, indices = model.kneighbors(X[item_index].reshape(1, -1), n_neighbors=k+5)\n",
    "    \n",
    "    # Convert indices to item names and exclude the input item\n",
    "    similar_items = [item_inverse_mapper[int(i)] for i in indices.flatten() \n",
    "                     if item_inverse_mapper[int(i)] != item_name]\n",
    "    \n",
    "    return similar_items[:k]  # Return only the top k items\n",
    "\n",
    "# 3. Create a recommendation function and test it\n",
    "test_item = amazon['item'].iloc[0]\n",
    "similar_items = find_similar_items(test_item, knn_model, item_mapper, item_inverse_mapper, X, k=5)\n",
    "print(f\"Similar items to '{test_item}': {similar_items}\")"
   ],
   "outputs": [
    {
     "name": "stdout",
     "output_type": "stream",
     "text": [
      "Similar items to '0006428320': ['B00021SUHC', 'B004I0CDM6', 'B0002TNGYG', 'B002Q0WT6U', 'B009CIIWQA']\n"
     ]
    }
   ],
   "execution_count": 269
  },
  {
   "cell_type": "markdown",
   "metadata": {},
   "source": [
    "Using your work above, do the following:\n",
    "\n",
    "1. Create *some sort* of recomendation system, and \n",
    "2. EXPLAIN what you have done and why\n",
    "3. Answer the following questions:\n",
    "    * What are the three top products you would recommend to a new user with no rating or purchasing history (the \"cold start\" problem).\n",
    "    * What rating do you think a new user would give to item \"B009CIIWQA\" (a rechargeable Music Stand LED lamp, at https://www.amazon.com/dp/B009CIIWQA\n",
    "    * What are the top three products you would recommend to user \"A27L1LDJZVRLJD\"?\n",
    "    * What rating do you think user \"A27L1LDJZVRLJD\" would give to the LED music lamp, item \"B009CIIWQA\"?"
   ]
  },
  {
   "metadata": {},
   "cell_type": "markdown",
   "source": "### 1. Create some sort of recommendation system"
  },
  {
   "metadata": {
    "ExecuteTime": {
     "end_time": "2025-04-15T05:52:19.006257Z",
     "start_time": "2025-04-15T05:52:19.001684Z"
    }
   },
   "cell_type": "code",
   "source": [
    "# Retun the most popular items based on average ratings\n",
    "def get_top_popular_items(amazon, n=3, min_reviews=5):\n",
    "    item_stats = amazon.groupby('item').agg(\n",
    "        avg_rating=('rating', 'mean'),\n",
    "        num_ratings=('rating', 'count')\n",
    "    )\n",
    "    \n",
    "    # Filter items with at least min_reviews\n",
    "    item_stats = item_stats[item_stats['num_ratings'] >= min_reviews]\n",
    "    \n",
    "    # Calculate a weighted score that considers both rating and popularity\n",
    "    # This formula gives more weight to items with more reviews\n",
    "    item_stats['score'] = item_stats['avg_rating'] * (1 + np.log1p(item_stats['num_ratings']))\n",
    "    \n",
    "    # Sort by the weighted score and return the top n items\n",
    "    return item_stats.sort_values('score', ascending=False).head(n).index.tolist()\n",
    "\n",
    "# Calculate average rating for each item in the dataset\n",
    "def get_average_ratings(amazon):\n",
    "    return amazon.groupby('item')['rating'].mean().sort_values(ascending=False)\n",
    "\n",
    "# Predict rating for a new user for a specific item    \n",
    "def predict_rating_for_new_user(item, average_ratings, item_mapper):\n",
    "    if item in item_mapper:\n",
    "        return average_ratings[item]\n",
    "    return None\n",
    "\n",
    "#REcommend items for an existing user based on their rating history\n",
    "def recommend_for_existing_user(user, amazon, knn_model, item_mapper, \n",
    "                               item_inverse_mapper, X, k=3):\n",
    "    user_ratings = amazon[amazon['user'] == user]\n",
    "    \n",
    "    if user_ratings.empty:\n",
    "        return None\n",
    "        \n",
    "    # Pick the most recently rated item to find similar items\n",
    "    latest_rated_item = user_ratings.sort_values(by='timestamp', ascending=False).iloc[0]['item']\n",
    "    return find_similar_items(latest_rated_item, knn_model, item_mapper, \n",
    "                             item_inverse_mapper, X, k=k)\n",
    "\n",
    "# Predict rating for an existing user for a specific item\n",
    "def predict_rating_for_existing_user(user, item, amazon, average_ratings):\n",
    "    user_ratings = amazon[amazon['user'] == user]\n",
    "    \n",
    "    if user_ratings.empty:\n",
    "        return None\n",
    "        \n",
    "    # Predict the average rating given by the user to other items\n",
    "    return user_ratings['rating'].mean()"
   ],
   "outputs": [],
   "execution_count": 270
  },
  {
   "metadata": {},
   "cell_type": "markdown",
   "source": ""
  },
  {
   "metadata": {
    "ExecuteTime": {
     "end_time": "2025-04-15T05:52:19.179952Z",
     "start_time": "2025-04-15T05:52:19.041461Z"
    }
   },
   "cell_type": "code",
   "source": [
    "average_ratings = get_average_ratings(amazon)\n",
    "\n",
    "# 1. Recommend three top products for a new user (cold start problem)\n",
    "top_3_items = get_top_popular_items(amazon, n=3)\n",
    "print(\"Top 3 products for new users (cold start):\", top_3_items)\n",
    "\n",
    "# 2. Predict rating for a new user for item \"B009CIIWQA\"\n",
    "item = \"B009CIIWQA\"\n",
    "predicted_rating_new_user = predict_rating_for_new_user(item, average_ratings, item_mapper)\n",
    "if predicted_rating_new_user is not None:\n",
    "    print(f\"Predicted rating for a new user for item 'B009CIIWQA': {predicted_rating_new_user:.2f}\")\n",
    "else:\n",
    "    print(f\"Item '{item}' not found in the dataset.\")\n",
    "\n",
    "# 3. Recommend top three products to user \"A27L1LDJZVRLJD\"\n",
    "user = \"A27L1LDJZVRLJD\"\n",
    "if user in user_mapper:\n",
    "    similar_items = recommend_for_existing_user(user, amazon, knn_model, \n",
    "                                                item_mapper, item_inverse_mapper, X, k=3)\n",
    "    if similar_items:\n",
    "        print(f\"Top 3 products recommended for user 'A27L1LDJZVRLJD': {similar_items}\")\n",
    "    else:\n",
    "        print(f\"User '{user}' has no ratings. Recommending popular items.\")\n",
    "        print(\"Top 3 products for new users (cold start):\", top_3_items)\n",
    "else:\n",
    "    print(f\"User '{user}' not found in the dataset.\")\n",
    "\n",
    "# 4. Predict rating for user \"A27L1LDJZVRLJD\" for item \"B009CIIWQA\"\n",
    "if user in user_mapper:\n",
    "    predicted_rating_for_user = predict_rating_for_existing_user(user, item, amazon, average_ratings)\n",
    "    if predicted_rating_for_user is not None:\n",
    "        print(f\"Predicted rating for user 'A27L1LDJZVRLJD' for item 'B009CIIWQA': {predicted_rating_for_user:.2f}\")\n",
    "    else:\n",
    "        print(f\"User '{user}' has no ratings.\")\n",
    "        print(f\"Using average item rating: {predicted_rating_new_user:.2f}\")\n",
    "else:\n",
    "    print(f\"User '{user}' not found in the dataset.\")"
   ],
   "outputs": [
    {
     "name": "stdout",
     "output_type": "stream",
     "text": [
      "Top 3 products for new users (cold start): ['B000ULAP4U', 'B003VWJ2K8', 'B00FPPQYXM']\n",
      "Predicted rating for a new user for item 'B009CIIWQA': 4.01\n",
      "Top 3 products recommended for user 'A27L1LDJZVRLJD': ['B00HTXIP4E', 'B00I9ZITRY', 'B00BUME2XS']\n",
      "Predicted rating for user 'A27L1LDJZVRLJD' for item 'B009CIIWQA': 4.00\n"
     ]
    }
   ],
   "execution_count": 271
  },
  {
   "metadata": {},
   "cell_type": "markdown",
   "source": [
    "### 2. Explanation\n",
    "I split the simple recommendation system into smaller functions\n",
    "##### 1. `get_top_popular_items(amazon, n=3, min_reviews=5)`\n",
    "\n",
    "* To get the 'n' most popular items, I group items together and calculate the average rating and the number of ratings. Then I compute the weighted score so the system recommends items with good ratings that have a consider number of ratings. This function helps solve the cold start problem.\n",
    "\n",
    "##### 2. `get_average_ratings(amazon)`\n",
    "\n",
    "* This calculates the average rating for each item in the dataset. This function provides the baseline for predicting ratings, especially for new users or items with limited ratings\n",
    "\n",
    "##### 3. `predict_rating_for_new_user(item, average_ratings, item_mapper)`\n",
    "\n",
    "* The function predicts the rating a new user would give to specific item. If the item exists in the dataset, it returns the average rating of that item, otherwise it return none. Without any user-specific data, the best prediction we can make is the overall average rating of the item. We must assume that the rating that a new user give would be around the average rating. This also solves the cold start problem.\n",
    "\n",
    "##### 4. `recommend_for_existing_user(user, amazon, knn_model, item_mapper, item_inverse_mapper, X, k=3)`\n",
    "\n",
    "* I'm using the KNN model for this recommendation function. In this function, I identify the items they the user has rated in the past, and use those items to recommend new ones to the user.\n",
    "\n",
    "\n",
    "##### 5. `predict_rating_for_existing_user(user, item, amazon, average_ratings)`\n",
    "\n",
    "* This function helps with predicting the rating an existing user would give to a specific item. Since there is no specific personalized model, the best way to predict how an existing user might rate a specific item is using the user's average rating across all the items they have previously rated.\n",
    "\n"
   ]
  },
  {
   "metadata": {},
   "cell_type": "markdown",
   "source": [
    "### 3. Answer the following questions\n",
    "- **What are the three top products you would recommend to a new user with no rating or purchasing history (the \"cold start\" problem)?**\n",
    "\n",
    "    The top three products that would be recommended to a new user are **Audio Technica ATH-M50 Pro Headphones (B000ULAP4U), Unknown (B003VWJ2K8), DOC MARTIN: SERIES 6 (B00FPPQYXM)**\n",
    "\n",
    "- **What rating do you think a new user would give to item \"B009CIIWQA\" (a rechargeable Music Stand LED lamp, at https://www.amazon.com/dp/B009CIIWQA)?**\n",
    "\n",
    "    A new user would give a rating of **4.01 or round it to 4.0**\n",
    "    \n",
    "- **What are the top three products you would recommend to user \"A27L1LDJZVRLJD\"?**\n",
    "\n",
    "    The three products recommended to user \"A27L1LDJZVRLJD\" are **Fashionable Fabric Tenor Trombone Gig Bag Backpack Case Purplish Red (B00HTXIP4E)**, **Dunlop Tortex Standard, 0.73mm, Yellow Guitar Pick, 72 Pack (B00BUME2XS)**, and **Unknown Item (B00I9ZITRY)**\n",
    "- **What rating do you think user \"A27L1LDJZVRLJD\" would give to the LED music lamp, item \"B009CIIWQA\"?**\n",
    "\n",
    "    The predicted rating for user \"A27L1LDJZVRLJD\" for item \"B009CIIWQA\" is **4.0**"
   ]
  },
  {
   "metadata": {},
   "cell_type": "markdown",
   "source": [
    "### Citation\n",
    "ChatGPT: https://chatgpt.com/"
   ]
  },
  {
   "metadata": {
    "ExecuteTime": {
     "end_time": "2025-04-15T05:52:19.213732Z",
     "start_time": "2025-04-15T05:52:19.211391Z"
    }
   },
   "cell_type": "code",
   "source": "",
   "outputs": [],
   "execution_count": null
  }
 ],
 "metadata": {
  "kernelspec": {
   "display_name": "Python 3 (ipykernel)",
   "language": "python",
   "name": "python3"
  },
  "language_info": {
   "codemirror_mode": {
    "name": "ipython",
    "version": 3
   },
   "file_extension": ".py",
   "mimetype": "text/x-python",
   "name": "python",
   "nbconvert_exporter": "python",
   "pygments_lexer": "ipython3",
   "version": "3.12.4"
  }
 },
 "nbformat": 4,
 "nbformat_minor": 4
}
